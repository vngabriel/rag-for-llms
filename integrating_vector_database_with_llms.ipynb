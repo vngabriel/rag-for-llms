{
  "nbformat": 4,
  "nbformat_minor": 0,
  "metadata": {
    "colab": {
      "provenance": [],
      "toc_visible": true,
      "gpuType": "T4",
      "authorship_tag": "ABX9TyNejFtCk2kvkb9WdV2vVQsL",
      "include_colab_link": true
    },
    "kernelspec": {
      "name": "python3",
      "display_name": "Python 3"
    },
    "language_info": {
      "name": "python"
    },
    "accelerator": "GPU"
  },
  "cells": [
    {
      "cell_type": "markdown",
      "metadata": {
        "id": "view-in-github",
        "colab_type": "text"
      },
      "source": [
        "<a href=\"https://colab.research.google.com/github/vngabriel/rag-for-llms/blob/main/integrating_vector_database_with_llms.ipynb\" target=\"_parent\"><img src=\"https://colab.research.google.com/assets/colab-badge.svg\" alt=\"Open In Colab\"/></a>"
      ]
    },
    {
      "cell_type": "markdown",
      "source": [
        "# Integrating Vector Database with Large Language Model (LLM)\n"
      ],
      "metadata": {
        "id": "y-PimrP6-erz"
      }
    },
    {
      "cell_type": "markdown",
      "source": [
        "## Installing dependencies"
      ],
      "metadata": {
        "id": "TePwIabZ-ivq"
      }
    },
    {
      "cell_type": "code",
      "source": [
        "!pip install -qU \\\n",
        "    datasets==2.14.5 \\\n",
        "    einops==0.6.1 \\\n",
        "    accelerate==0.20.3 \\\n",
        "    datasets==2.14.5 \\\n",
        "    chromadb"
      ],
      "metadata": {
        "id": "nCyQt2dJSKHy"
      },
      "execution_count": null,
      "outputs": []
    },
    {
      "cell_type": "markdown",
      "source": [
        "## Importing dependencies"
      ],
      "metadata": {
        "id": "rLjTrfQ5-pO7"
      }
    },
    {
      "cell_type": "code",
      "source": [
        "from pprint import pprint\n",
        "\n",
        "import chromadb\n",
        "from chromadb.utils import embedding_functions\n",
        "from datasets import load_dataset\n",
        "import transformers\n",
        "from transformers import AutoTokenizer, AutoModelForCausalLM\n",
        "import torch"
      ],
      "metadata": {
        "id": "ccvWSKiJTnl3"
      },
      "execution_count": null,
      "outputs": []
    },
    {
      "cell_type": "markdown",
      "source": [
        "## Running ChromaDB as a remote database (only works locally or in production)\n",
        "\n",
        "Run the following command:\n",
        "\n",
        "`chroma run --host localhost --port 8000 --path ./chromadb`\n",
        "\n",
        "and change the code below from `chromadb.Client()` to `chromadb.HttpClient(\"http://localhost:8000\")`"
      ],
      "metadata": {
        "id": "tbbXO1nM-ynB"
      }
    },
    {
      "cell_type": "markdown",
      "source": [
        "## Code"
      ],
      "metadata": {
        "id": "YxLdXO-v_VZR"
      }
    },
    {
      "cell_type": "markdown",
      "source": [
        "### Class to handle Vector Database"
      ],
      "metadata": {
        "id": "i0spbRDM_bbi"
      }
    },
    {
      "cell_type": "code",
      "source": [
        "class VectorStore:\n",
        "\n",
        "    def __init__(self, collection_name):\n",
        "        # Initialize the embedding model\n",
        "\n",
        "        self.embedding_model = embedding_functions.DefaultEmbeddingFunction()\n",
        "\n",
        "        self.chroma_client = chromadb.Client()\n",
        "        print(f\"Heartbeat: {self.chroma_client.heartbeat()}\")\n",
        "        print(f\"Version: {self.chroma_client.get_version()}\")\n",
        "\n",
        "        self.collection = self.chroma_client.create_collection(\n",
        "            name=collection_name, get_or_create=True\n",
        "        )\n",
        "\n",
        "        print(f\"All collections: {self.chroma_client.list_collections()}\")\n",
        "\n",
        "    def populate_vectors(self, dataset):\n",
        "        # Method to populate the vector store with embeddings from a dataset\n",
        "\n",
        "        for i, item in enumerate(dataset):\n",
        "            combined_text = f\"{item['instruction']}. {item['context']}\"\n",
        "            embeddings = self.embedding_model([combined_text])\n",
        "            self.collection.add(\n",
        "                embeddings=embeddings, documents=[item[\"context\"]], ids=[f\"id_{i}\"]\n",
        "            )\n",
        "\n",
        "    def search_context(self, query, n_results=1):\n",
        "        # Method to search the ChromaDB collection for relevant context based on a query\n",
        "\n",
        "        query_embeddings = self.embedding_model([query])\n",
        "        return self.collection.query(\n",
        "            query_embeddings=query_embeddings, n_results=n_results\n",
        "        )\n"
      ],
      "metadata": {
        "id": "Vk_b3XT8R94e"
      },
      "execution_count": null,
      "outputs": []
    },
    {
      "cell_type": "markdown",
      "source": [
        "### Class to handle language model"
      ],
      "metadata": {
        "id": "WIrUiyWE_gYj"
      }
    },
    {
      "cell_type": "code",
      "source": [
        "class Model:\n",
        "\n",
        "    def __init__(self):\n",
        "        # https://huggingface.co/TinyLlama/TinyLlama-1.1B-Chat-v1.0\n",
        "        model_name = \"TinyLlama/TinyLlama-1.1B-Chat-v1.0\"\n",
        "        self.pipeline, self.tokenizer = self.initialize_model(model_name)\n",
        "\n",
        "    def initialize_model(self, model_name):\n",
        "        tokenizer = AutoTokenizer.from_pretrained(model_name)\n",
        "        model = AutoModelForCausalLM.from_pretrained(model_name)\n",
        "\n",
        "        if torch.cuda.is_available():\n",
        "            pipeline = transformers.pipeline(\n",
        "                \"text-generation\", model=model, tokenizer=tokenizer, device=0, max_length=1000\n",
        "            )\n",
        "        else:\n",
        "            pipeline = transformers.pipeline(\n",
        "                \"text-generation\", model=model, tokenizer=tokenizer, max_length=1000\n",
        "            )\n",
        "\n",
        "        return pipeline, tokenizer\n",
        "\n",
        "    def generate_answer(self, prompt):\n",
        "        sequences = self.pipeline(prompt)\n",
        "\n",
        "        return sequences[0][\"generated_text\"]"
      ],
      "metadata": {
        "id": "iFwZV-zkZzfa"
      },
      "execution_count": null,
      "outputs": []
    },
    {
      "cell_type": "markdown",
      "source": [
        "## Creating the Vector Database"
      ],
      "metadata": {
        "id": "ky4ImiE1_piO"
      }
    },
    {
      "cell_type": "code",
      "source": [
        "# Load only the training split of the dataset\n",
        "train_dataset = load_dataset(\"databricks/databricks-dolly-15k\", split=\"train\")\n",
        "# Filter the dataset to only include entries with the 'closed_qa' category\n",
        "closed_qa_dataset = train_dataset.filter(lambda example: example['category'] == \"closed_qa\")\n",
        "\n",
        "print()\n",
        "pprint(closed_qa_dataset[0])\n",
        "print()\n",
        "pprint(closed_qa_dataset[-1])"
      ],
      "metadata": {
        "colab": {
          "base_uri": "https://localhost:8080/"
        },
        "id": "wBGxycAScsPi",
        "outputId": "a62854fd-5bcf-4c7a-8cf0-4c37807ce4fa"
      },
      "execution_count": null,
      "outputs": [
        {
          "output_type": "stream",
          "name": "stderr",
          "text": [
            "/usr/local/lib/python3.10/dist-packages/huggingface_hub/utils/_token.py:89: UserWarning: \n",
            "The secret `HF_TOKEN` does not exist in your Colab secrets.\n",
            "To authenticate with the Hugging Face Hub, create a token in your settings tab (https://huggingface.co/settings/tokens), set it as secret in your Google Colab and restart your session.\n",
            "You will be able to reuse this secret in all of your notebooks.\n",
            "Please note that authentication is recommended but still optional to access public models or datasets.\n",
            "  warnings.warn(\n"
          ]
        },
        {
          "output_type": "stream",
          "name": "stdout",
          "text": [
            "\n",
            "{'category': 'closed_qa',\n",
            " 'context': 'Virgin Australia, the trading name of Virgin Australia Airlines '\n",
            "            'Pty Ltd, is an Australian-based airline. It is the largest '\n",
            "            'airline by fleet size to use the Virgin brand. It commenced '\n",
            "            'services on 31 August 2000 as Virgin Blue, with two aircraft on a '\n",
            "            'single route. It suddenly found itself as a major airline in '\n",
            "            \"Australia's domestic market after the collapse of Ansett \"\n",
            "            'Australia in September 2001. The airline has since grown to '\n",
            "            'directly serve 32 cities in Australia, from hubs in Brisbane, '\n",
            "            'Melbourne and Sydney.',\n",
            " 'instruction': 'When did Virgin Australia start operating?',\n",
            " 'response': 'Virgin Australia commenced services on 31 August 2000 as Virgin '\n",
            "             'Blue, with two aircraft on a single route.'}\n",
            "\n",
            "{'category': 'closed_qa',\n",
            " 'context': 'The term one-child policy refers to a population planning '\n",
            "            'initiative in China implemented between 1980 and 2015 to curb the '\n",
            "            \"country's population growth by restricting many families to a \"\n",
            "            'single child. That initiative was part of a much broader effort '\n",
            "            'to control population growth that began in 1970 and ended in '\n",
            "            '2021, a half century program that included minimum ages at '\n",
            "            'marriage and childbearing, two-child limits for many couples, '\n",
            "            'minimum time intervals between births, heavy surveillance, and '\n",
            "            'stiff fines for non-compliance. The program had wide-ranging '\n",
            "            'social, cultural, economic, and demographic effects, although the '\n",
            "            'contribution of one-child restrictions to the broader program has '\n",
            "            'been the subject of controversy.',\n",
            " 'instruction': 'What is one-child policy?',\n",
            " 'response': 'The \"one-child policy\" was a Chinese population planning '\n",
            "             'initiative that was implemented from 1980 to 2015 to curb '\n",
            "             'population growth by limiting many families to only one child. '\n",
            "             'It was part of a larger effort to control population growth that '\n",
            "             'began in 1970 and ended in 2021, which included setting minimum '\n",
            "             'ages for marriage and childbearing, imposing two-child limits on '\n",
            "             'many couples, requiring minimum intervals between births, close '\n",
            "             'monitoring, and imposing stiff fines for non-compliance. The '\n",
            "             'policy had far-reaching social, cultural, economic, and '\n",
            "             'demographic effects, although the extent to which the one-child '\n",
            "             'restrictions contributed to the broader program has been a '\n",
            "             'matter of debate.'}\n"
          ]
        }
      ]
    },
    {
      "cell_type": "code",
      "execution_count": null,
      "metadata": {
        "colab": {
          "base_uri": "https://localhost:8080/"
        },
        "collapsed": true,
        "id": "-xYtUOcTRyx4",
        "outputId": "9f1c755a-3123-4bd7-f62a-be3203cd32ee"
      },
      "outputs": [
        {
          "output_type": "stream",
          "name": "stdout",
          "text": [
            "Heartbeat: 1722469521872045046\n",
            "Version: 0.5.5\n",
            "All collections: [Collection(id=058e3330-dcfd-48f3-a928-15987b965afb, name=knowledge-base)]\n"
          ]
        }
      ],
      "source": [
        "vector_store = VectorStore(\"knowledge-base\")\n",
        "vector_store.populate_vectors(closed_qa_dataset)"
      ]
    },
    {
      "cell_type": "markdown",
      "source": [
        "### Add custom data to Vector Database"
      ],
      "metadata": {
        "id": "yp6y0rp3CXzy"
      }
    },
    {
      "cell_type": "code",
      "source": [
        "custom_data = {\n",
        "    \"category\": \"closed_qa\",\n",
        "    \"context\": \"Jhulia Rayssa Mendes Leal (Imperatriz, January 4, 2008) is a Brazilian skateboarder, Olympic runner-up at the 2020 Summer Olympics in Tokyo, being the youngest Brazilian Olympic medalist. Furthermore, she is the Pan-American champion, winning the gold medal in street skateboarding at the 2023 Pan-American Games, held in Santiago, Chile, marking the first gold medal for the Brazilian delegation in this edition of the Pan. In 2024, she won bronze at the Paris Olympic Games, becoming the youngest Brazilian athlete to win two medals at two different Olympic Games. Rayssa is also a gold medalist at the X Games and 2022 world champion. Popularly called 'A Fadinha' (The Little Fairy), Rayssa earned this nickname after her video performing skateboarding tricks dressed as a fairy went viral on the internet at the age of seven. Since then, she has become well-known in the Brazilian skate scene and on social media. Her success in competitions made her a recognized athlete in the skateboarding world.\",\n",
        "    \"instruction\": \"Who is Rayssa Leal?\",\n",
        "    \"response\": \"Rayssa Leal, also known as 'A Fadinha' (The Little Fairy), is a Brazilian skateboarder and the youngest Brazilian Olympic medalist, having won silver at the 2020 Tokyo Olympics and bronze at the 2024 Paris Olympics. She is also a Pan-American champion, X Games gold medalist, and 2022 world champion in street skateboarding.\"\n",
        "}\n",
        "\n",
        "combined_text = f\"{custom_data['instruction']}. {custom_data['context']}\"\n",
        "embeddings = vector_store.embedding_model([combined_text])\n",
        "vector_store.collection.add(\n",
        "    embeddings=embeddings, documents=[custom_data[\"context\"]], ids=[\"id_1000000000\"]\n",
        ")"
      ],
      "metadata": {
        "id": "4KJFIM9fB0i1"
      },
      "execution_count": null,
      "outputs": []
    },
    {
      "cell_type": "code",
      "source": [
        "vector_store.collection.get(ids=[\"id_1000000000\"])"
      ],
      "metadata": {
        "colab": {
          "base_uri": "https://localhost:8080/"
        },
        "id": "k7LZs0POHYcY",
        "outputId": "88f25e54-0aeb-48ea-f087-66414701b05c"
      },
      "execution_count": null,
      "outputs": [
        {
          "output_type": "execute_result",
          "data": {
            "text/plain": [
              "{'ids': ['id_1000000000'],\n",
              " 'embeddings': None,\n",
              " 'metadatas': [None],\n",
              " 'documents': [\"Jhulia Rayssa Mendes Leal (Imperatriz, January 4, 2008) is a Brazilian skateboarder, Olympic runner-up at the 2020 Summer Olympics in Tokyo, being the youngest Brazilian Olympic medalist. Furthermore, she is the Pan-American champion, winning the gold medal in street skateboarding at the 2023 Pan-American Games, held in Santiago, Chile, marking the first gold medal for the Brazilian delegation in this edition of the Pan. In 2024, she won bronze at the Paris Olympic Games, becoming the youngest Brazilian athlete to win two medals at two different Olympic Games. Rayssa is also a gold medalist at the X Games and 2022 world champion. Popularly called 'A Fadinha' (The Little Fairy), Rayssa earned this nickname after her video performing skateboarding tricks dressed as a fairy went viral on the internet at the age of seven. Since then, she has become well-known in the Brazilian skate scene and on social media. Her success in competitions made her a recognized athlete in the skateboarding world.\"],\n",
              " 'uris': None,\n",
              " 'data': None,\n",
              " 'included': ['metadatas', 'documents']}"
            ]
          },
          "metadata": {},
          "execution_count": 8
        }
      ]
    },
    {
      "cell_type": "markdown",
      "source": [
        "## Creating the model"
      ],
      "metadata": {
        "id": "mQUu25kEAG4R"
      }
    },
    {
      "cell_type": "code",
      "source": [
        "model = Model()"
      ],
      "metadata": {
        "id": "HlqaL-MScepN"
      },
      "execution_count": null,
      "outputs": []
    },
    {
      "cell_type": "markdown",
      "source": [
        "## Generating text"
      ],
      "metadata": {
        "id": "Z36_j-3pAJIQ"
      }
    },
    {
      "cell_type": "markdown",
      "source": [
        "### Question 1"
      ],
      "metadata": {
        "id": "GBiiCT79Amx5"
      }
    },
    {
      "cell_type": "code",
      "source": [
        "user_question = \"Who is the president of the USA\""
      ],
      "metadata": {
        "id": "ZFVX4FpUgUSf"
      },
      "execution_count": null,
      "outputs": []
    },
    {
      "cell_type": "markdown",
      "source": [
        "#### Without context"
      ],
      "metadata": {
        "id": "SA0QGseIAovF"
      }
    },
    {
      "cell_type": "code",
      "source": [
        "messages = [\n",
        "    {\n",
        "        \"role\": \"system\",\n",
        "        \"content\": \"You are a friendly chatbot who always responds in the style of a pirate\",\n",
        "    },\n",
        "    {\"role\": \"user\", \"content\": user_question},\n",
        "]\n",
        "prompt = model.pipeline.tokenizer.apply_chat_template(messages, tokenize=False, add_generation_prompt=True)\n",
        "\n",
        "# Generate an answer to the user question using the LLM\n",
        "answer = model.generate_answer(prompt)\n",
        "print(\"\\nAnswer:\\n\")\n",
        "print(answer.split(\"<|assistant|>\")[-1].strip())"
      ],
      "metadata": {
        "colab": {
          "base_uri": "https://localhost:8080/"
        },
        "id": "WnQRmBQASqP5",
        "outputId": "4af0c040-0ff8-4acf-d9ab-1f52b7acfb99"
      },
      "execution_count": null,
      "outputs": [
        {
          "output_type": "stream",
          "name": "stderr",
          "text": [
            "Truncation was not explicitly activated but `max_length` is provided a specific value, please use `truncation=True` to explicitly truncate examples to max length. Defaulting to 'longest_first' truncation strategy. If you encode pairs of sequences (GLUE-style) with the tokenizer you can select this strategy more precisely by providing a specific strategy to `truncation`.\n"
          ]
        },
        {
          "output_type": "stream",
          "name": "stdout",
          "text": [
            "\n",
            "Answer:\n",
            "\n",
            "The current president of the United States of America is Joe Biden. He was sworn in as the 46th president of the United States on January 20, 2021.\n"
          ]
        }
      ]
    },
    {
      "cell_type": "markdown",
      "source": [
        "#### With context"
      ],
      "metadata": {
        "id": "m84a0cmwAtUk"
      }
    },
    {
      "cell_type": "code",
      "source": [
        "context_response = vector_store.search_context(user_question)\n",
        "print(context_response)"
      ],
      "metadata": {
        "colab": {
          "base_uri": "https://localhost:8080/"
        },
        "id": "yf4pmi4Vd4Vh",
        "outputId": "9c485610-2d25-48d6-d379-b5f9cebded10"
      },
      "execution_count": null,
      "outputs": [
        {
          "output_type": "stream",
          "name": "stdout",
          "text": [
            "{'ids': [['id_1075']], 'distances': [[0.8493637442588806]], 'metadatas': [[None]], 'embeddings': None, 'documents': [['From Simple English Wikipedia, the free encyclopedia\\nPresident of the\\nUnited States of America\\nSeal of the President of the United States.svg\\nSeal of the President of the United States\\nFlag of the President of the United States.svg\\nFlag of the President of the United States\\nJoe Biden presidential portrait.jpg\\nIncumbent\\nJoe Biden\\nsince January 20, 2021\\nExecutive branch of the U.S. government\\nExecutive Office of the President\\nStyle\\t\\nMr. President\\n(informal)\\nThe Honorable\\n(formal)\\nHis Excellency\\n(diplomatic)\\nType\\t\\nHead of state\\nHead of government\\nAbbreviation\\tPOTUS\\nMember of\\t\\nCabinet\\nDomestic Policy Council\\nNational Economic Council\\nNational Security Council\\nResidence\\tWhite House\\nSeat\\tWashington, D.C.\\nAppointer\\tElectoral College\\nTerm length\\tFour years, renewable once\\nConstituting instrument\\tConstitution of the United States\\nInaugural holder\\tGeorge Washington\\nFormation\\tMarch 4, 1789\\n(234 years ago)\\nDeputy\\tVice President of the United States\\nSalary\\t$400,000 (annually)\\nWebsite\\twhitehouse.gov\\nThis article is part of a series on the\\nPolitics of the\\nUnited States of America\\nGreater coat of arms of the United States.svg\\nFederal Government\\nLegislature\\nExecutive\\nJudiciary\\nElections\\nPolitical parties\\nFederalism\\nOther countriesAtlas\\nvte\\nThe president of the United States (POTUS) is the head of state and head of government of the United States of America and the commander-in-chief of the United States Armed Forces. The president is also the head of the executive branch of the federal government of the United States and is the chairman of the presidential cabinet.\\n\\nJoe Biden is the 46th and current president of the United States, in office since January 2021.\\n\\nEligibility and requirements\\nArticle II, Section 1, Clause 5 of the constitution states for a person to serve as president must:\\n\\nbe a natural-born citizen of the United States. [note 1]\\nbe at least thirty-five years old.\\nbe a permanent resident in the United States for at least fourteen years.\\nElection process and presidential terms\\nThe president is indirectly elected by the people through the Electoral College to a four-year term, along with the vice presidential candidate and the incumbent vice president of the United States. The presidential candidate or incumbent president must have at least 270 electoral college votes in order to win the election.\\n\\nUnder the Twenty-second amendment to the constitution prevents anyone from being elected president more than twice. This amendment was added after Franklin Roosevelt served four terms from 1933 until his death in 1945.\\n\\nPresident-elect of the United States\\nThe president-elect of the United States is the candidate who has won the United States presidential election and is awaiting inauguration to become the president.\\n\\nPresidential inauguration\\n\\nThe United States Capitol Building, during the inauguration of Joe Biden, January 2021.\\n\\nJoe Biden at his presidential inauguration as he takes the presidential office of office.\\nThe president and vice president-elect immediately began their four-year team on inauguration day every four years on January 20. The original inauguration date was held on March 4, but was later changed in 1933.\\n\\nExecutive Office of the President\\nThe Executive Office of the President consists of the offices and agencies that support the work of the president at the center of the executive branch of the United States federal government. The office consists of several offices and agencies, such as the White House Office, the staff working directly for and reporting to the president, including White House staff, the National Security Council, and the Office of Management and Budget.\\n\\nPresidential line of succession\\nIf the president dies, reigns, or is impeached, the vice president will succeed the presidential office and duties. fifteen other federal government officials also rank in the succession of the president.\\n\\nAbraham Lincoln, James A. Garfield, William McKinley, and John F. Kennedy were assassinated while in office. William Henry Harrison, Zachary Taylor, Warren G. Harding and Franklin Roosevelt died from illness while president. Calvin Coolidge became president, when Warren G. Harding died while in office.\\n\\nRichard Nixon is the only U.S. president to have resigned from office.\\n\\nAndrew Johnson, Bill Clinton, and Donald Trump are the only presidents to have been impeached.']], 'uris': None, 'data': None, 'included': ['metadatas', 'documents', 'distances']}\n"
          ]
        }
      ]
    },
    {
      "cell_type": "code",
      "source": [
        "context = \"\".join(context_response[\"documents\"][0])[:900]\n",
        "\n",
        "messages = [\n",
        "    {\n",
        "        \"role\": \"system\",\n",
        "        \"content\": \"You are a friendly chatbot who always responds in the style of a pirate\",\n",
        "    },\n",
        "    {\"role\": \"user\", \"content\": f\"{context}\\n\\n{user_question}\"},\n",
        "]\n",
        "prompt = model.pipeline.tokenizer.apply_chat_template(messages, tokenize=False, add_generation_prompt=True)\n",
        "\n",
        "# Generate an answer using the model, incorporating the fetched context\n",
        "enriched_answer = model.generate_answer(prompt)\n",
        "\n",
        "print(\"Answer:\\n\")\n",
        "print(enriched_answer.split(\"<|assistant|>\")[-1].strip())"
      ],
      "metadata": {
        "colab": {
          "base_uri": "https://localhost:8080/"
        },
        "id": "m61EXjh_T1T4",
        "outputId": "2a88feb8-3d8e-4edd-f71a-b92e16ccc356"
      },
      "execution_count": null,
      "outputs": [
        {
          "output_type": "stream",
          "name": "stdout",
          "text": [
            "Answer:\n",
            "\n",
            "The president of the United States of America is Joe Biden, who was sworn in as the 46th president of the United States on January 20, 2021. Biden is the incumbent president, having been elected in the 2020 presidential election. The president is the head of state and head of government of the United States, and is the leader of the executive branch of the government. The president is also the head of the National Security Council, the Domestic Policy Council, and the National Economic Council. The president is elected for a four-year term, with the inauguration ceremony taking place on the first Monday of January each year. The president is the first in the line of succession, and the vice president serves as the acting president in the event of the president's death, resignation, or inability to perform their duties. The president is also the commander-in-chief of the United States Armed Forces.\n"
          ]
        }
      ]
    },
    {
      "cell_type": "markdown",
      "source": [
        "### Question 2"
      ],
      "metadata": {
        "id": "WBmJuzB6A1iG"
      }
    },
    {
      "cell_type": "code",
      "source": [
        "user_question = \"Who is Rayssa Leal\""
      ],
      "metadata": {
        "id": "GTV-5ufQ-dxz"
      },
      "execution_count": null,
      "outputs": []
    },
    {
      "cell_type": "markdown",
      "source": [
        "#### Without context"
      ],
      "metadata": {
        "id": "tX3ksMPDAv26"
      }
    },
    {
      "cell_type": "code",
      "source": [
        "messages = [\n",
        "    {\n",
        "        \"role\": \"system\",\n",
        "        \"content\": \"You are a friendly chatbot who always responds in the style of a pirate\",\n",
        "    },\n",
        "    {\"role\": \"user\", \"content\": user_question},\n",
        "]\n",
        "prompt = model.pipeline.tokenizer.apply_chat_template(messages, tokenize=False, add_generation_prompt=True)\n",
        "\n",
        "# Generate an answer to the user question using the LLM\n",
        "answer = model.generate_answer(prompt)\n",
        "\n",
        "print(\"Answer:\\n\")\n",
        "print(answer.split(\"<|assistant|>\")[-1].strip())"
      ],
      "metadata": {
        "colab": {
          "base_uri": "https://localhost:8080/"
        },
        "outputId": "be333254-b68a-4bd7-ba91-2051495b79c7",
        "id": "TwtXKXFU-dxz"
      },
      "execution_count": null,
      "outputs": [
        {
          "output_type": "stream",
          "name": "stdout",
          "text": [
            "Answer:\n",
            "\n",
            "Rayssa Leal is a Brazilian model and actress who is best known for her work in the fashion industry. She has appeared in numerous high-profile fashion campaigns and has been featured in numerous magazines, including Vogue, Elle, and GQ. Rayssa has also appeared in several films and television shows, including \"The Crown,\" \"The Crown,\" and \"The Crown.\" She is known for her natural beauty, curvaceous figure, and effortless style.\n"
          ]
        }
      ]
    },
    {
      "cell_type": "markdown",
      "source": [
        "#### With context"
      ],
      "metadata": {
        "id": "EjD7Kxf3A7MK"
      }
    },
    {
      "cell_type": "code",
      "source": [
        "context_response = vector_store.search_context(user_question)\n",
        "print(context_response)"
      ],
      "metadata": {
        "colab": {
          "base_uri": "https://localhost:8080/"
        },
        "outputId": "910637b0-3a70-4678-dee7-4493082e375a",
        "id": "7IWTU_5y-dxz"
      },
      "execution_count": null,
      "outputs": [
        {
          "output_type": "stream",
          "name": "stdout",
          "text": [
            "{'ids': [['id_1000000000']], 'distances': [[0.7231837511062622]], 'metadatas': [[None]], 'embeddings': None, 'documents': [[\"Jhulia Rayssa Mendes Leal (Imperatriz, January 4, 2008) is a Brazilian skateboarder, Olympic runner-up at the 2020 Summer Olympics in Tokyo, being the youngest Brazilian Olympic medalist. Furthermore, she is the Pan-American champion, winning the gold medal in street skateboarding at the 2023 Pan-American Games, held in Santiago, Chile, marking the first gold medal for the Brazilian delegation in this edition of the Pan. In 2024, she won bronze at the Paris Olympic Games, becoming the youngest Brazilian athlete to win two medals at two different Olympic Games. Rayssa is also a gold medalist at the X Games and 2022 world champion. Popularly called 'A Fadinha' (The Little Fairy), Rayssa earned this nickname after her video performing skateboarding tricks dressed as a fairy went viral on the internet at the age of seven. Since then, she has become well-known in the Brazilian skate scene and on social media. Her success in competitions made her a recognized athlete in the skateboarding world.\"]], 'uris': None, 'data': None, 'included': ['metadatas', 'documents', 'distances']}\n"
          ]
        }
      ]
    },
    {
      "cell_type": "code",
      "source": [
        "context = \"\".join(context_response[\"documents\"][0])[:900]\n",
        "\n",
        "messages = [\n",
        "    {\n",
        "        \"role\": \"system\",\n",
        "        \"content\": \"You are a friendly chatbot who always responds in the style of a pirate\",\n",
        "    },\n",
        "    {\"role\": \"user\", \"content\": f\"{context}\\n\\n{user_question}\"},\n",
        "]\n",
        "prompt = model.pipeline.tokenizer.apply_chat_template(messages, tokenize=False, add_generation_prompt=True)\n",
        "\n",
        "# Generate an answer using the model, incorporating the fetched context\n",
        "enriched_answer = model.generate_answer(prompt)\n",
        "\n",
        "print(\"Answer:\\n\")\n",
        "print(enriched_answer.split(\"<|assistant|>\")[-1].strip())"
      ],
      "metadata": {
        "colab": {
          "base_uri": "https://localhost:8080/"
        },
        "outputId": "5941c442-2e9c-4971-d405-aff285631a88",
        "id": "GPicF4w8-dxz"
      },
      "execution_count": null,
      "outputs": [
        {
          "output_type": "stream",
          "name": "stdout",
          "text": [
            "Answer:\n",
            "\n",
            "Jhulia Rayssa Mendes Leal (Imperatriz, January 4, 2008) is a Brazilian skateboarder, Olympic runner-up at the 2020 Summer Olympics in Tokyo, being the youngest Brazilian Olympic medalist. She is also a gold medalist at the X Games and 2022 world champion. Rayssa is popularly called \"A Fadinha\" (The Little Fairy) after her viral video of skateboarding tricks dressed as a fairy went viral on the internet at the age of seven. She has become well-known in the Brazilian skate scene and has earned the nickname \"The Little Fairy\" for her unique style and talent.\n"
          ]
        }
      ]
    },
    {
      "cell_type": "markdown",
      "source": [
        "### Question 3"
      ],
      "metadata": {
        "id": "h3ynANu4H9ty"
      }
    },
    {
      "cell_type": "code",
      "source": [
        "user_question = \"How many Olympic medals did Rayssa Leal win\""
      ],
      "metadata": {
        "id": "mOpeIBzzjn-p"
      },
      "execution_count": null,
      "outputs": []
    },
    {
      "cell_type": "markdown",
      "source": [
        "#### With context"
      ],
      "metadata": {
        "id": "UQy0r-_ijpyQ"
      }
    },
    {
      "cell_type": "code",
      "source": [
        "context_response = vector_store.search_context(user_question)\n",
        "print(context_response)\n",
        "context = \"\".join(context_response[\"documents\"][0])[:900]\n",
        "\n",
        "messages = [\n",
        "    {\n",
        "        \"role\": \"system\",\n",
        "        \"content\": \"You are a friendly chatbot who always responds in the style of a pirate\",\n",
        "    },\n",
        "    {\"role\": \"user\", \"content\": f\"{context}\\n\\n{user_question}\"},\n",
        "]\n",
        "prompt = model.pipeline.tokenizer.apply_chat_template(messages, tokenize=False, add_generation_prompt=True)\n",
        "\n",
        "# Generate an answer using the model, incorporating the fetched context\n",
        "enriched_answer = model.generate_answer(prompt)\n",
        "\n",
        "print(\"\\nAnswer:\\n\")\n",
        "print(enriched_answer.split(\"<|assistant|>\")[-1].strip())"
      ],
      "metadata": {
        "colab": {
          "base_uri": "https://localhost:8080/"
        },
        "id": "iVngFZCpBDk9",
        "outputId": "651721c9-2d95-4d20-973a-e06ce57a1afe"
      },
      "execution_count": null,
      "outputs": [
        {
          "output_type": "stream",
          "name": "stdout",
          "text": [
            "{'ids': [['id_1000000000']], 'distances': [[0.6633252501487732]], 'metadatas': [[None]], 'embeddings': None, 'documents': [[\"Jhulia Rayssa Mendes Leal (Imperatriz, January 4, 2008) is a Brazilian skateboarder, Olympic runner-up at the 2020 Summer Olympics in Tokyo, being the youngest Brazilian Olympic medalist. Furthermore, she is the Pan-American champion, winning the gold medal in street skateboarding at the 2023 Pan-American Games, held in Santiago, Chile, marking the first gold medal for the Brazilian delegation in this edition of the Pan. In 2024, she won bronze at the Paris Olympic Games, becoming the youngest Brazilian athlete to win two medals at two different Olympic Games. Rayssa is also a gold medalist at the X Games and 2022 world champion. Popularly called 'A Fadinha' (The Little Fairy), Rayssa earned this nickname after her video performing skateboarding tricks dressed as a fairy went viral on the internet at the age of seven. Since then, she has become well-known in the Brazilian skate scene and on social media. Her success in competitions made her a recognized athlete in the skateboarding world.\"]], 'uris': None, 'data': None, 'included': ['metadatas', 'documents', 'distances']}\n",
            "\n",
            "Answer:\n",
            "\n",
            "Jhulia Rayssa Mendes Leal (Imperatriz, January 4, 2008) won two Olympic medals, a gold medal in street skateboarding at the 2023 Pan-American Games in Santiago, Chile, and a bronze medal at the Paris Olympic Games in 2024.\n",
            "\n",
            "Rayssa is also a gold medalist at the X Games and 2022 world champion.\n"
          ]
        }
      ]
    },
    {
      "cell_type": "code",
      "source": [],
      "metadata": {
        "id": "HRMjnfDiIJLD"
      },
      "execution_count": null,
      "outputs": []
    }
  ]
}